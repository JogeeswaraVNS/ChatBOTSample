{
  "nbformat": 4,
  "nbformat_minor": 0,
  "metadata": {
    "colab": {
      "provenance": [],
      "gpuType": "T4"
    },
    "kernelspec": {
      "name": "python3",
      "display_name": "Python 3"
    },
    "language_info": {
      "name": "python"
    },
    "widgets": {
      "application/vnd.jupyter.widget-state+json": {
        "fa2d9f22361348a5806d759b4a998372": {
          "model_module": "@jupyter-widgets/controls",
          "model_name": "HBoxModel",
          "model_module_version": "1.5.0",
          "state": {
            "_dom_classes": [],
            "_model_module": "@jupyter-widgets/controls",
            "_model_module_version": "1.5.0",
            "_model_name": "HBoxModel",
            "_view_count": null,
            "_view_module": "@jupyter-widgets/controls",
            "_view_module_version": "1.5.0",
            "_view_name": "HBoxView",
            "box_style": "",
            "children": [
              "IPY_MODEL_d878ebcca69b4d9a9628d21f859bdbb9",
              "IPY_MODEL_cf338c9d8533447691838106dc4efb2b",
              "IPY_MODEL_6b9dea9589a6455bbfbac40d1d6f9623"
            ],
            "layout": "IPY_MODEL_f4cf52b9a0cb4047b6d89c3f0532233e"
          }
        },
        "d878ebcca69b4d9a9628d21f859bdbb9": {
          "model_module": "@jupyter-widgets/controls",
          "model_name": "HTMLModel",
          "model_module_version": "1.5.0",
          "state": {
            "_dom_classes": [],
            "_model_module": "@jupyter-widgets/controls",
            "_model_module_version": "1.5.0",
            "_model_name": "HTMLModel",
            "_view_count": null,
            "_view_module": "@jupyter-widgets/controls",
            "_view_module_version": "1.5.0",
            "_view_name": "HTMLView",
            "description": "",
            "description_tooltip": null,
            "layout": "IPY_MODEL_332973ceba6f40298bbd4f01354fd809",
            "placeholder": "​",
            "style": "IPY_MODEL_ee0613c04ee547f3a9b678a91d8f1129",
            "value": "Map: 100%"
          }
        },
        "cf338c9d8533447691838106dc4efb2b": {
          "model_module": "@jupyter-widgets/controls",
          "model_name": "FloatProgressModel",
          "model_module_version": "1.5.0",
          "state": {
            "_dom_classes": [],
            "_model_module": "@jupyter-widgets/controls",
            "_model_module_version": "1.5.0",
            "_model_name": "FloatProgressModel",
            "_view_count": null,
            "_view_module": "@jupyter-widgets/controls",
            "_view_module_version": "1.5.0",
            "_view_name": "ProgressView",
            "bar_style": "success",
            "description": "",
            "description_tooltip": null,
            "layout": "IPY_MODEL_a81f91e1a0c04e91a4789c276913a536",
            "max": 26425,
            "min": 0,
            "orientation": "horizontal",
            "style": "IPY_MODEL_d892b2875e594a3b985d6cbfeaabda3c",
            "value": 26425
          }
        },
        "6b9dea9589a6455bbfbac40d1d6f9623": {
          "model_module": "@jupyter-widgets/controls",
          "model_name": "HTMLModel",
          "model_module_version": "1.5.0",
          "state": {
            "_dom_classes": [],
            "_model_module": "@jupyter-widgets/controls",
            "_model_module_version": "1.5.0",
            "_model_name": "HTMLModel",
            "_view_count": null,
            "_view_module": "@jupyter-widgets/controls",
            "_view_module_version": "1.5.0",
            "_view_name": "HTMLView",
            "description": "",
            "description_tooltip": null,
            "layout": "IPY_MODEL_06635da02fd941878192d39008669bed",
            "placeholder": "​",
            "style": "IPY_MODEL_797591ed27e848b3adfaa3563450935c",
            "value": " 26425/26425 [00:08&lt;00:00, 2456.80 examples/s]"
          }
        },
        "f4cf52b9a0cb4047b6d89c3f0532233e": {
          "model_module": "@jupyter-widgets/base",
          "model_name": "LayoutModel",
          "model_module_version": "1.2.0",
          "state": {
            "_model_module": "@jupyter-widgets/base",
            "_model_module_version": "1.2.0",
            "_model_name": "LayoutModel",
            "_view_count": null,
            "_view_module": "@jupyter-widgets/base",
            "_view_module_version": "1.2.0",
            "_view_name": "LayoutView",
            "align_content": null,
            "align_items": null,
            "align_self": null,
            "border": null,
            "bottom": null,
            "display": null,
            "flex": null,
            "flex_flow": null,
            "grid_area": null,
            "grid_auto_columns": null,
            "grid_auto_flow": null,
            "grid_auto_rows": null,
            "grid_column": null,
            "grid_gap": null,
            "grid_row": null,
            "grid_template_areas": null,
            "grid_template_columns": null,
            "grid_template_rows": null,
            "height": null,
            "justify_content": null,
            "justify_items": null,
            "left": null,
            "margin": null,
            "max_height": null,
            "max_width": null,
            "min_height": null,
            "min_width": null,
            "object_fit": null,
            "object_position": null,
            "order": null,
            "overflow": null,
            "overflow_x": null,
            "overflow_y": null,
            "padding": null,
            "right": null,
            "top": null,
            "visibility": null,
            "width": null
          }
        },
        "332973ceba6f40298bbd4f01354fd809": {
          "model_module": "@jupyter-widgets/base",
          "model_name": "LayoutModel",
          "model_module_version": "1.2.0",
          "state": {
            "_model_module": "@jupyter-widgets/base",
            "_model_module_version": "1.2.0",
            "_model_name": "LayoutModel",
            "_view_count": null,
            "_view_module": "@jupyter-widgets/base",
            "_view_module_version": "1.2.0",
            "_view_name": "LayoutView",
            "align_content": null,
            "align_items": null,
            "align_self": null,
            "border": null,
            "bottom": null,
            "display": null,
            "flex": null,
            "flex_flow": null,
            "grid_area": null,
            "grid_auto_columns": null,
            "grid_auto_flow": null,
            "grid_auto_rows": null,
            "grid_column": null,
            "grid_gap": null,
            "grid_row": null,
            "grid_template_areas": null,
            "grid_template_columns": null,
            "grid_template_rows": null,
            "height": null,
            "justify_content": null,
            "justify_items": null,
            "left": null,
            "margin": null,
            "max_height": null,
            "max_width": null,
            "min_height": null,
            "min_width": null,
            "object_fit": null,
            "object_position": null,
            "order": null,
            "overflow": null,
            "overflow_x": null,
            "overflow_y": null,
            "padding": null,
            "right": null,
            "top": null,
            "visibility": null,
            "width": null
          }
        },
        "ee0613c04ee547f3a9b678a91d8f1129": {
          "model_module": "@jupyter-widgets/controls",
          "model_name": "DescriptionStyleModel",
          "model_module_version": "1.5.0",
          "state": {
            "_model_module": "@jupyter-widgets/controls",
            "_model_module_version": "1.5.0",
            "_model_name": "DescriptionStyleModel",
            "_view_count": null,
            "_view_module": "@jupyter-widgets/base",
            "_view_module_version": "1.2.0",
            "_view_name": "StyleView",
            "description_width": ""
          }
        },
        "a81f91e1a0c04e91a4789c276913a536": {
          "model_module": "@jupyter-widgets/base",
          "model_name": "LayoutModel",
          "model_module_version": "1.2.0",
          "state": {
            "_model_module": "@jupyter-widgets/base",
            "_model_module_version": "1.2.0",
            "_model_name": "LayoutModel",
            "_view_count": null,
            "_view_module": "@jupyter-widgets/base",
            "_view_module_version": "1.2.0",
            "_view_name": "LayoutView",
            "align_content": null,
            "align_items": null,
            "align_self": null,
            "border": null,
            "bottom": null,
            "display": null,
            "flex": null,
            "flex_flow": null,
            "grid_area": null,
            "grid_auto_columns": null,
            "grid_auto_flow": null,
            "grid_auto_rows": null,
            "grid_column": null,
            "grid_gap": null,
            "grid_row": null,
            "grid_template_areas": null,
            "grid_template_columns": null,
            "grid_template_rows": null,
            "height": null,
            "justify_content": null,
            "justify_items": null,
            "left": null,
            "margin": null,
            "max_height": null,
            "max_width": null,
            "min_height": null,
            "min_width": null,
            "object_fit": null,
            "object_position": null,
            "order": null,
            "overflow": null,
            "overflow_x": null,
            "overflow_y": null,
            "padding": null,
            "right": null,
            "top": null,
            "visibility": null,
            "width": null
          }
        },
        "d892b2875e594a3b985d6cbfeaabda3c": {
          "model_module": "@jupyter-widgets/controls",
          "model_name": "ProgressStyleModel",
          "model_module_version": "1.5.0",
          "state": {
            "_model_module": "@jupyter-widgets/controls",
            "_model_module_version": "1.5.0",
            "_model_name": "ProgressStyleModel",
            "_view_count": null,
            "_view_module": "@jupyter-widgets/base",
            "_view_module_version": "1.2.0",
            "_view_name": "StyleView",
            "bar_color": null,
            "description_width": ""
          }
        },
        "06635da02fd941878192d39008669bed": {
          "model_module": "@jupyter-widgets/base",
          "model_name": "LayoutModel",
          "model_module_version": "1.2.0",
          "state": {
            "_model_module": "@jupyter-widgets/base",
            "_model_module_version": "1.2.0",
            "_model_name": "LayoutModel",
            "_view_count": null,
            "_view_module": "@jupyter-widgets/base",
            "_view_module_version": "1.2.0",
            "_view_name": "LayoutView",
            "align_content": null,
            "align_items": null,
            "align_self": null,
            "border": null,
            "bottom": null,
            "display": null,
            "flex": null,
            "flex_flow": null,
            "grid_area": null,
            "grid_auto_columns": null,
            "grid_auto_flow": null,
            "grid_auto_rows": null,
            "grid_column": null,
            "grid_gap": null,
            "grid_row": null,
            "grid_template_areas": null,
            "grid_template_columns": null,
            "grid_template_rows": null,
            "height": null,
            "justify_content": null,
            "justify_items": null,
            "left": null,
            "margin": null,
            "max_height": null,
            "max_width": null,
            "min_height": null,
            "min_width": null,
            "object_fit": null,
            "object_position": null,
            "order": null,
            "overflow": null,
            "overflow_x": null,
            "overflow_y": null,
            "padding": null,
            "right": null,
            "top": null,
            "visibility": null,
            "width": null
          }
        },
        "797591ed27e848b3adfaa3563450935c": {
          "model_module": "@jupyter-widgets/controls",
          "model_name": "DescriptionStyleModel",
          "model_module_version": "1.5.0",
          "state": {
            "_model_module": "@jupyter-widgets/controls",
            "_model_module_version": "1.5.0",
            "_model_name": "DescriptionStyleModel",
            "_view_count": null,
            "_view_module": "@jupyter-widgets/base",
            "_view_module_version": "1.2.0",
            "_view_name": "StyleView",
            "description_width": ""
          }
        },
        "b97df58f4abf475fa910c9f00b6bac39": {
          "model_module": "@jupyter-widgets/controls",
          "model_name": "HBoxModel",
          "model_module_version": "1.5.0",
          "state": {
            "_dom_classes": [],
            "_model_module": "@jupyter-widgets/controls",
            "_model_module_version": "1.5.0",
            "_model_name": "HBoxModel",
            "_view_count": null,
            "_view_module": "@jupyter-widgets/controls",
            "_view_module_version": "1.5.0",
            "_view_name": "HBoxView",
            "box_style": "",
            "children": [
              "IPY_MODEL_cc0f949e6ae24b90beb0d0f88074165c",
              "IPY_MODEL_0cb0c4aff9534aa1b0100be6ccaaa850",
              "IPY_MODEL_ce8ed71518f54afb94d2e680f0252884"
            ],
            "layout": "IPY_MODEL_ae4d00cd56824a3293fe5664d3482eb1"
          }
        },
        "cc0f949e6ae24b90beb0d0f88074165c": {
          "model_module": "@jupyter-widgets/controls",
          "model_name": "HTMLModel",
          "model_module_version": "1.5.0",
          "state": {
            "_dom_classes": [],
            "_model_module": "@jupyter-widgets/controls",
            "_model_module_version": "1.5.0",
            "_model_name": "HTMLModel",
            "_view_count": null,
            "_view_module": "@jupyter-widgets/controls",
            "_view_module_version": "1.5.0",
            "_view_name": "HTMLView",
            "description": "",
            "description_tooltip": null,
            "layout": "IPY_MODEL_002b1a23f3c84e1b8d739d383da6c947",
            "placeholder": "​",
            "style": "IPY_MODEL_122aab5a8475407d9f9ae8e2a2b919a5",
            "value": "Map: 100%"
          }
        },
        "0cb0c4aff9534aa1b0100be6ccaaa850": {
          "model_module": "@jupyter-widgets/controls",
          "model_name": "FloatProgressModel",
          "model_module_version": "1.5.0",
          "state": {
            "_dom_classes": [],
            "_model_module": "@jupyter-widgets/controls",
            "_model_module_version": "1.5.0",
            "_model_name": "FloatProgressModel",
            "_view_count": null,
            "_view_module": "@jupyter-widgets/controls",
            "_view_module_version": "1.5.0",
            "_view_name": "ProgressView",
            "bar_style": "success",
            "description": "",
            "description_tooltip": null,
            "layout": "IPY_MODEL_8061b88af00c49cc9b5169d2aed3a1e1",
            "max": 26425,
            "min": 0,
            "orientation": "horizontal",
            "style": "IPY_MODEL_da31be9e2ab8407bbc2b400624e53296",
            "value": 26425
          }
        },
        "ce8ed71518f54afb94d2e680f0252884": {
          "model_module": "@jupyter-widgets/controls",
          "model_name": "HTMLModel",
          "model_module_version": "1.5.0",
          "state": {
            "_dom_classes": [],
            "_model_module": "@jupyter-widgets/controls",
            "_model_module_version": "1.5.0",
            "_model_name": "HTMLModel",
            "_view_count": null,
            "_view_module": "@jupyter-widgets/controls",
            "_view_module_version": "1.5.0",
            "_view_name": "HTMLView",
            "description": "",
            "description_tooltip": null,
            "layout": "IPY_MODEL_5e9de0ab1f3346ee92c93d0ab52c6655",
            "placeholder": "​",
            "style": "IPY_MODEL_e930c908c8c34f46978a95ac6190759a",
            "value": " 26425/26425 [00:10&lt;00:00, 2258.28 examples/s]"
          }
        },
        "ae4d00cd56824a3293fe5664d3482eb1": {
          "model_module": "@jupyter-widgets/base",
          "model_name": "LayoutModel",
          "model_module_version": "1.2.0",
          "state": {
            "_model_module": "@jupyter-widgets/base",
            "_model_module_version": "1.2.0",
            "_model_name": "LayoutModel",
            "_view_count": null,
            "_view_module": "@jupyter-widgets/base",
            "_view_module_version": "1.2.0",
            "_view_name": "LayoutView",
            "align_content": null,
            "align_items": null,
            "align_self": null,
            "border": null,
            "bottom": null,
            "display": null,
            "flex": null,
            "flex_flow": null,
            "grid_area": null,
            "grid_auto_columns": null,
            "grid_auto_flow": null,
            "grid_auto_rows": null,
            "grid_column": null,
            "grid_gap": null,
            "grid_row": null,
            "grid_template_areas": null,
            "grid_template_columns": null,
            "grid_template_rows": null,
            "height": null,
            "justify_content": null,
            "justify_items": null,
            "left": null,
            "margin": null,
            "max_height": null,
            "max_width": null,
            "min_height": null,
            "min_width": null,
            "object_fit": null,
            "object_position": null,
            "order": null,
            "overflow": null,
            "overflow_x": null,
            "overflow_y": null,
            "padding": null,
            "right": null,
            "top": null,
            "visibility": null,
            "width": null
          }
        },
        "002b1a23f3c84e1b8d739d383da6c947": {
          "model_module": "@jupyter-widgets/base",
          "model_name": "LayoutModel",
          "model_module_version": "1.2.0",
          "state": {
            "_model_module": "@jupyter-widgets/base",
            "_model_module_version": "1.2.0",
            "_model_name": "LayoutModel",
            "_view_count": null,
            "_view_module": "@jupyter-widgets/base",
            "_view_module_version": "1.2.0",
            "_view_name": "LayoutView",
            "align_content": null,
            "align_items": null,
            "align_self": null,
            "border": null,
            "bottom": null,
            "display": null,
            "flex": null,
            "flex_flow": null,
            "grid_area": null,
            "grid_auto_columns": null,
            "grid_auto_flow": null,
            "grid_auto_rows": null,
            "grid_column": null,
            "grid_gap": null,
            "grid_row": null,
            "grid_template_areas": null,
            "grid_template_columns": null,
            "grid_template_rows": null,
            "height": null,
            "justify_content": null,
            "justify_items": null,
            "left": null,
            "margin": null,
            "max_height": null,
            "max_width": null,
            "min_height": null,
            "min_width": null,
            "object_fit": null,
            "object_position": null,
            "order": null,
            "overflow": null,
            "overflow_x": null,
            "overflow_y": null,
            "padding": null,
            "right": null,
            "top": null,
            "visibility": null,
            "width": null
          }
        },
        "122aab5a8475407d9f9ae8e2a2b919a5": {
          "model_module": "@jupyter-widgets/controls",
          "model_name": "DescriptionStyleModel",
          "model_module_version": "1.5.0",
          "state": {
            "_model_module": "@jupyter-widgets/controls",
            "_model_module_version": "1.5.0",
            "_model_name": "DescriptionStyleModel",
            "_view_count": null,
            "_view_module": "@jupyter-widgets/base",
            "_view_module_version": "1.2.0",
            "_view_name": "StyleView",
            "description_width": ""
          }
        },
        "8061b88af00c49cc9b5169d2aed3a1e1": {
          "model_module": "@jupyter-widgets/base",
          "model_name": "LayoutModel",
          "model_module_version": "1.2.0",
          "state": {
            "_model_module": "@jupyter-widgets/base",
            "_model_module_version": "1.2.0",
            "_model_name": "LayoutModel",
            "_view_count": null,
            "_view_module": "@jupyter-widgets/base",
            "_view_module_version": "1.2.0",
            "_view_name": "LayoutView",
            "align_content": null,
            "align_items": null,
            "align_self": null,
            "border": null,
            "bottom": null,
            "display": null,
            "flex": null,
            "flex_flow": null,
            "grid_area": null,
            "grid_auto_columns": null,
            "grid_auto_flow": null,
            "grid_auto_rows": null,
            "grid_column": null,
            "grid_gap": null,
            "grid_row": null,
            "grid_template_areas": null,
            "grid_template_columns": null,
            "grid_template_rows": null,
            "height": null,
            "justify_content": null,
            "justify_items": null,
            "left": null,
            "margin": null,
            "max_height": null,
            "max_width": null,
            "min_height": null,
            "min_width": null,
            "object_fit": null,
            "object_position": null,
            "order": null,
            "overflow": null,
            "overflow_x": null,
            "overflow_y": null,
            "padding": null,
            "right": null,
            "top": null,
            "visibility": null,
            "width": null
          }
        },
        "da31be9e2ab8407bbc2b400624e53296": {
          "model_module": "@jupyter-widgets/controls",
          "model_name": "ProgressStyleModel",
          "model_module_version": "1.5.0",
          "state": {
            "_model_module": "@jupyter-widgets/controls",
            "_model_module_version": "1.5.0",
            "_model_name": "ProgressStyleModel",
            "_view_count": null,
            "_view_module": "@jupyter-widgets/base",
            "_view_module_version": "1.2.0",
            "_view_name": "StyleView",
            "bar_color": null,
            "description_width": ""
          }
        },
        "5e9de0ab1f3346ee92c93d0ab52c6655": {
          "model_module": "@jupyter-widgets/base",
          "model_name": "LayoutModel",
          "model_module_version": "1.2.0",
          "state": {
            "_model_module": "@jupyter-widgets/base",
            "_model_module_version": "1.2.0",
            "_model_name": "LayoutModel",
            "_view_count": null,
            "_view_module": "@jupyter-widgets/base",
            "_view_module_version": "1.2.0",
            "_view_name": "LayoutView",
            "align_content": null,
            "align_items": null,
            "align_self": null,
            "border": null,
            "bottom": null,
            "display": null,
            "flex": null,
            "flex_flow": null,
            "grid_area": null,
            "grid_auto_columns": null,
            "grid_auto_flow": null,
            "grid_auto_rows": null,
            "grid_column": null,
            "grid_gap": null,
            "grid_row": null,
            "grid_template_areas": null,
            "grid_template_columns": null,
            "grid_template_rows": null,
            "height": null,
            "justify_content": null,
            "justify_items": null,
            "left": null,
            "margin": null,
            "max_height": null,
            "max_width": null,
            "min_height": null,
            "min_width": null,
            "object_fit": null,
            "object_position": null,
            "order": null,
            "overflow": null,
            "overflow_x": null,
            "overflow_y": null,
            "padding": null,
            "right": null,
            "top": null,
            "visibility": null,
            "width": null
          }
        },
        "e930c908c8c34f46978a95ac6190759a": {
          "model_module": "@jupyter-widgets/controls",
          "model_name": "DescriptionStyleModel",
          "model_module_version": "1.5.0",
          "state": {
            "_model_module": "@jupyter-widgets/controls",
            "_model_module_version": "1.5.0",
            "_model_name": "DescriptionStyleModel",
            "_view_count": null,
            "_view_module": "@jupyter-widgets/base",
            "_view_module_version": "1.2.0",
            "_view_name": "StyleView",
            "description_width": ""
          }
        }
      }
    },
    "accelerator": "GPU"
  },
  "cells": [
    {
      "cell_type": "code",
      "source": [
        "from google.colab import drive\n",
        "drive.mount('/content/drive')"
      ],
      "metadata": {
        "colab": {
          "base_uri": "https://localhost:8080/"
        },
        "id": "nou-pA--XZFD",
        "outputId": "00c32010-13ab-4067-db3c-cf7df8a1a764"
      },
      "execution_count": 1,
      "outputs": [
        {
          "output_type": "stream",
          "name": "stdout",
          "text": [
            "Drive already mounted at /content/drive; to attempt to forcibly remount, call drive.mount(\"/content/drive\", force_remount=True).\n"
          ]
        }
      ]
    },
    {
      "cell_type": "code",
      "source": [
        "def adjust_indices(data_list):\n",
        "    for data in data_list:\n",
        "        # Extract the text from the current data dictionary and remove additional trailing spaces\n",
        "        text = data['data']['text'].strip()\n",
        "\n",
        "        # Iterate through all annotations\n",
        "        for annotation in data['annotations']:\n",
        "            # Extract results from the current annotation\n",
        "            results = annotation['result']\n",
        "            adjusted_results = []\n",
        "\n",
        "            for result in results:\n",
        "                value = result['value']\n",
        "                original_text = value['text'].strip()  # Remove trailing spaces from original_text\n",
        "\n",
        "                # Find the start index of the original text in the data text\n",
        "                start_index = text.find(original_text)\n",
        "                if start_index == -1:\n",
        "                    print(f\"Warning: '{original_text}' not found in text.\")\n",
        "                    continue\n",
        "\n",
        "                # Calculate the end index based on the found start index and the length of the original text\n",
        "                end_index = start_index + len(original_text)\n",
        "\n",
        "                # Create a new adjusted annotation\n",
        "                adjusted_result = {\n",
        "                    'value': {\n",
        "                        'start': start_index,\n",
        "                        'end': end_index,\n",
        "                        'text': original_text,\n",
        "                        'labels': value['labels']\n",
        "                    },\n",
        "                    'id': result['id'],\n",
        "                    'from_name': result['from_name'],\n",
        "                    'to_name': result['to_name'],\n",
        "                    'type': result['type'],\n",
        "                    'origin': result['origin']\n",
        "                }\n",
        "\n",
        "                # Append the adjusted result to the list\n",
        "                adjusted_results.append(adjusted_result)\n",
        "\n",
        "            # Replace the original results with the adjusted ones for the current annotation\n",
        "            annotation['result'] = adjusted_results\n",
        "\n"
      ],
      "metadata": {
        "id": "-INW7nLg3Vk9"
      },
      "execution_count": 2,
      "outputs": []
    },
    {
      "cell_type": "code",
      "source": [
        "tokens_array = []\n",
        "bio_tags_array = []"
      ],
      "metadata": {
        "id": "vp02TT6_9ElE"
      },
      "execution_count": 3,
      "outputs": []
    },
    {
      "cell_type": "code",
      "source": [
        "def bio_tagging(data):\n",
        "    # Ensure data is a list\n",
        "    if not isinstance(data, list):\n",
        "        raise ValueError(\"Expected a list of data entries.\")\n",
        "\n",
        "    for entry in data:\n",
        "        # Ensure entry has the correct structure\n",
        "        if not isinstance(entry, dict) or \"data\" not in entry or \"text\" not in entry[\"data\"]:\n",
        "            raise ValueError(\"Entry does not have the correct structure.\")\n",
        "\n",
        "        sentence = entry[\"data\"][\"text\"]\n",
        "        tokens = sentence.split()  # Tokenize by whitespace for simplicity\n",
        "        bio_labels = [\"O\"] * len(tokens)  # Initialize all tokens with 'O' labels\n",
        "\n",
        "        # Extract annotations to update the bio_labels if needed\n",
        "        for annotation in entry.get(\"annotations\", []):\n",
        "            for result in annotation.get(\"result\", []):\n",
        "                label = result[\"value\"][\"labels\"][0]  # Assume one label for simplicity\n",
        "                start = result[\"value\"][\"start\"]\n",
        "                end = result[\"value\"][\"end\"]\n",
        "\n",
        "                # Ensure start and end indices are valid\n",
        "                if start < 0 or end > len(sentence):\n",
        "                    continue\n",
        "\n",
        "                # Calculate token indices for start and end\n",
        "                current_position = 0\n",
        "                start_token_index = None\n",
        "                end_token_index = None\n",
        "\n",
        "                for i, token in enumerate(tokens):\n",
        "                    token_length = len(token) + (1 if current_position > 0 else 0)  # Add 1 for space\n",
        "                    if start >= current_position and start < current_position + token_length:\n",
        "                        start_token_index = i\n",
        "                    if end > current_position and end <= current_position + token_length:\n",
        "                        end_token_index = i\n",
        "                    current_position += token_length\n",
        "\n",
        "                    # Break if both indices are found\n",
        "                    if start_token_index is not None and end_token_index is not None:\n",
        "                        break\n",
        "\n",
        "                # Validate token indices before marking BIO labels\n",
        "                if start_token_index is not None and start_token_index < len(bio_labels):\n",
        "                    # Mark the BIO tags\n",
        "                    if bio_labels[start_token_index] == \"O\":  # Only mark B if it hasn't been marked yet\n",
        "                        bio_labels[start_token_index] = f\"B-{label}\"\n",
        "\n",
        "                    # Ensure end_token_index is valid for the loop\n",
        "                    if end_token_index is not None and end_token_index < len(bio_labels):\n",
        "                        for i in range(start_token_index + 1, end_token_index + 1):\n",
        "                            bio_labels[i] = f\"I-{label}\"\n",
        "\n",
        "        tokens_array.append(tokens)\n",
        "        bio_tags_array.append(bio_labels)\n",
        "\n",
        "\n",
        "\n"
      ],
      "metadata": {
        "id": "HgKKVuDvyjWB"
      },
      "execution_count": 4,
      "outputs": []
    },
    {
      "cell_type": "code",
      "source": [
        "import json\n",
        "\n",
        "# Load your JSON file from Colab's content directory\n",
        "json_path = '/content/drive/MyDrive/Exported_v_c_i_y_Data.json'  # Replace with your actual file name\n",
        "with open(json_path, 'r') as file:\n",
        "    data = json.load(file)\n",
        "\n",
        "adjust_indices(data)\n",
        "bio_tagging(data)\n",
        "\n",
        "# Output tokens and BIO tags\n",
        "print(\"Tokens Array:\", len(tokens_array))\n",
        "print(\"BIO Tags Array:\", len(bio_tags_array))"
      ],
      "metadata": {
        "colab": {
          "base_uri": "https://localhost:8080/"
        },
        "id": "KisB6wzk9Wja",
        "outputId": "9d2687a5-31a8-4835-a2a6-9a31e9822420"
      },
      "execution_count": 5,
      "outputs": [
        {
          "output_type": "stream",
          "name": "stdout",
          "text": [
            "Tokens Array: 40000\n",
            "BIO Tags Array: 40000\n"
          ]
        }
      ]
    },
    {
      "cell_type": "code",
      "source": [
        "import json\n",
        "\n",
        "# Load your JSON file from Colab's content directory\n",
        "json_path = '/content/drive/MyDrive/date_json.json'  # Replace with your actual file name\n",
        "with open(json_path, 'r') as file:\n",
        "    data = json.load(file)\n",
        "\n",
        "adjust_indices(data)\n",
        "bio_tagging(data)\n",
        "\n",
        "# Output tokens and BIO tags\n",
        "print(\"Tokens Array:\", len(tokens_array))\n",
        "print(\"BIO Tags Array:\", len(bio_tags_array))"
      ],
      "metadata": {
        "colab": {
          "base_uri": "https://localhost:8080/"
        },
        "id": "wbv-7A0M9yr8",
        "outputId": "8cd55e1b-0f08-45b9-c124-8c564a223dd8"
      },
      "execution_count": 6,
      "outputs": [
        {
          "output_type": "stream",
          "name": "stdout",
          "text": [
            "Tokens Array: 40050\n",
            "BIO Tags Array: 40050\n"
          ]
        }
      ]
    },
    {
      "cell_type": "code",
      "source": [
        "import json\n",
        "\n",
        "# Load your JSON file from Colab's content directory\n",
        "json_path = '/content/drive/MyDrive/Exported_Vendor_Invoice_Data.json'  # Replace with your actual file name\n",
        "with open(json_path, 'r') as file:\n",
        "    data = json.load(file)\n",
        "\n",
        "adjust_indices(data)\n",
        "bio_tagging(data)\n",
        "\n",
        "# Output tokens and BIO tags\n",
        "print(\"Tokens Array:\", len(tokens_array))\n",
        "print(\"BIO Tags Array:\", len(bio_tags_array))"
      ],
      "metadata": {
        "colab": {
          "base_uri": "https://localhost:8080/"
        },
        "id": "R5rIrJLF9_65",
        "outputId": "747261ec-d88c-4108-ae27-5dc7ea3dd4c4"
      },
      "execution_count": 7,
      "outputs": [
        {
          "output_type": "stream",
          "name": "stdout",
          "text": [
            "Tokens Array: 44050\n",
            "BIO Tags Array: 44050\n"
          ]
        }
      ]
    },
    {
      "cell_type": "code",
      "source": [
        "import json\n",
        "\n",
        "# Load your JSON file from Colab's content directory\n",
        "json_path = '/content/drive/MyDrive/Exported_vendors_component_year_Data.json'  # Replace with your actual file name\n",
        "with open(json_path, 'r') as file:\n",
        "    data = json.load(file)\n",
        "\n",
        "adjust_indices(data)\n",
        "bio_tagging(data)\n",
        "\n",
        "# Output tokens and BIO tags\n",
        "print(\"Tokens Array:\", len(tokens_array))\n",
        "print(\"BIO Tags Array:\", len(bio_tags_array))"
      ],
      "metadata": {
        "colab": {
          "base_uri": "https://localhost:8080/"
        },
        "id": "MLB6eIHJ-AK-",
        "outputId": "cb829cd1-8999-41fd-fca4-c6ccd5ed2575"
      },
      "execution_count": 8,
      "outputs": [
        {
          "output_type": "stream",
          "name": "stdout",
          "text": [
            "Tokens Array: 48050\n",
            "BIO Tags Array: 48050\n"
          ]
        }
      ]
    },
    {
      "cell_type": "code",
      "source": [
        "import json\n",
        "\n",
        "# Load your JSON file from Colab's content directory\n",
        "json_path = '/content/drive/MyDrive/Exported_vendors_invoice_year_Data.json'  # Replace with your actual file name\n",
        "with open(json_path, 'r') as file:\n",
        "    data = json.load(file)\n",
        "\n",
        "adjust_indices(data)\n",
        "bio_tagging(data)\n",
        "\n",
        "# Output tokens and BIO tags\n",
        "print(\"Tokens Array:\", len(tokens_array))\n",
        "print(\"BIO Tags Array:\", len(bio_tags_array))"
      ],
      "metadata": {
        "colab": {
          "base_uri": "https://localhost:8080/"
        },
        "id": "pmqoiFEv-AYt",
        "outputId": "a3f79e70-d374-4441-e576-ddaf6bc3ca8f"
      },
      "execution_count": 9,
      "outputs": [
        {
          "output_type": "stream",
          "name": "stdout",
          "text": [
            "Tokens Array: 52050\n",
            "BIO Tags Array: 52050\n"
          ]
        }
      ]
    },
    {
      "cell_type": "code",
      "source": [
        "import json\n",
        "\n",
        "# Load your JSON file from Colab's content directory\n",
        "json_path = '/content/drive/MyDrive/ExportedInvoiceData.json'  # Replace with your actual file name\n",
        "with open(json_path, 'r') as file:\n",
        "    data = json.load(file)\n",
        "\n",
        "adjust_indices(data)\n",
        "bio_tagging(data)\n",
        "\n",
        "# Output tokens and BIO tags\n",
        "print(\"Tokens Array:\", len(tokens_array))\n",
        "print(\"BIO Tags Array:\", len(bio_tags_array))"
      ],
      "metadata": {
        "colab": {
          "base_uri": "https://localhost:8080/"
        },
        "id": "_Wbpk2pJ-Alm",
        "outputId": "9bde994e-dda9-4e07-fb47-b561610f2789"
      },
      "execution_count": 10,
      "outputs": [
        {
          "output_type": "stream",
          "name": "stdout",
          "text": [
            "Tokens Array: 52450\n",
            "BIO Tags Array: 52450\n"
          ]
        }
      ]
    },
    {
      "cell_type": "code",
      "source": [
        "import json\n",
        "\n",
        "# Load your JSON file from Colab's content directory\n",
        "json_path = '/content/drive/MyDrive/ExportedVendorData.json'  # Replace with your actual file name\n",
        "with open(json_path, 'r') as file:\n",
        "    data = json.load(file)\n",
        "\n",
        "adjust_indices(data)\n",
        "bio_tagging(data)\n",
        "\n",
        "# Output tokens and BIO tags\n",
        "print(\"Tokens Array:\", len(tokens_array))\n",
        "print(\"BIO Tags Array:\", len(bio_tags_array))"
      ],
      "metadata": {
        "colab": {
          "base_uri": "https://localhost:8080/"
        },
        "id": "4vg4ZUK2-AxZ",
        "outputId": "d6d7a94e-258b-4420-c5e4-61eb53a301a6"
      },
      "execution_count": 11,
      "outputs": [
        {
          "output_type": "stream",
          "name": "stdout",
          "text": [
            "Tokens Array: 52850\n",
            "BIO Tags Array: 52850\n"
          ]
        }
      ]
    },
    {
      "cell_type": "code",
      "source": [
        "idx=45100\n",
        "print(tokens_array[idx])\n",
        "print(bio_tags_array[idx])"
      ],
      "metadata": {
        "colab": {
          "base_uri": "https://localhost:8080/"
        },
        "id": "cOuC2hRt-oP3",
        "outputId": "0174126b-fe45-4368-f475-c48654841b99"
      },
      "execution_count": 12,
      "outputs": [
        {
          "output_type": "stream",
          "name": "stdout",
          "text": [
            "['M/S', 'Ecel', 'pest', 'Control', 'shipped', 'critical', 'Valrack', '12u', 'in', '2023.']\n",
            "['B-vendors', 'I-vendors', 'I-vendors', 'I-vendors', 'O', 'O', 'B-component', 'I-component', 'O', 'B-year']\n"
          ]
        }
      ]
    },
    {
      "cell_type": "code",
      "source": [
        "# Step 1: Define the mapping\n",
        "label_mapping = {\n",
        "    'O': 0,\n",
        "    'B-component': 1,\n",
        "    'I-component': 2,\n",
        "    'B-year': 3,\n",
        "    'I-year': 4,\n",
        "    'B-vendors': 5,\n",
        "    'I-vendors': 6,\n",
        "    'B-invoice': 7,\n",
        "    'I-invoice': 8\n",
        "}\n",
        "\n",
        "# Step 2: Replace BIO tags with corresponding numbers\n",
        "encoded_bio_tags_array = []\n",
        "for sublist in bio_tags_array:\n",
        "    encoded_sublist = []\n",
        "    for tag in sublist:\n",
        "        try:\n",
        "            encoded_sublist.append(label_mapping[tag])\n",
        "        except KeyError:\n",
        "            print(f\"Warning: '{tag}' not found in label_mapping.\")\n",
        "            encoded_sublist.append(None)  # Append None or a specific value for unknown tags\n",
        "    encoded_bio_tags_array.append(encoded_sublist)\n"
      ],
      "metadata": {
        "id": "m84MJngFBR0S"
      },
      "execution_count": 13,
      "outputs": []
    },
    {
      "cell_type": "code",
      "source": [
        "encoded_bio_tags_array[:5]"
      ],
      "metadata": {
        "colab": {
          "base_uri": "https://localhost:8080/"
        },
        "id": "A2TQTIH3Nqwr",
        "outputId": "7e966fd5-4bf3-47f0-dd3a-405aaa3cec79"
      },
      "execution_count": 14,
      "outputs": [
        {
          "output_type": "execute_result",
          "data": {
            "text/plain": [
              "[[0, 3, 5, 6, 6, 6, 6, 6, 6, 0, 0, 0, 7, 0, 0, 1, 2, 0],\n",
              " [0, 3, 5, 6, 6, 6, 6, 6, 6, 0, 0, 0, 7, 0, 0, 1, 2, 0],\n",
              " [0, 3, 5, 6, 6, 0, 0, 0, 7, 0, 0, 1, 2, 0],\n",
              " [0, 3, 5, 6, 6, 6, 6, 0, 0, 0, 7, 0, 0, 1, 2, 0],\n",
              " [0, 3, 5, 6, 6, 6, 6, 6, 0, 0, 0, 7, 0, 0, 1, 2, 0]]"
            ]
          },
          "metadata": {},
          "execution_count": 14
        }
      ]
    },
    {
      "cell_type": "code",
      "source": [
        "from sklearn.model_selection import train_test_split\n",
        "\n",
        "x_train,x_test,y_train,y_test=train_test_split(tokens_array,encoded_bio_tags_array,test_size=0.5,random_state=50)"
      ],
      "metadata": {
        "id": "HMPupc4GSLUq"
      },
      "execution_count": 15,
      "outputs": []
    },
    {
      "cell_type": "code",
      "source": [
        "print(\"Training Samples\",len(x_train))\n",
        "print(\"Testing Samples\",len(x_test))"
      ],
      "metadata": {
        "colab": {
          "base_uri": "https://localhost:8080/"
        },
        "id": "-e1bRjHzSQ_y",
        "outputId": "87dbc3bc-9b54-4c8d-c012-d0d4a5a3030a"
      },
      "execution_count": 16,
      "outputs": [
        {
          "output_type": "stream",
          "name": "stdout",
          "text": [
            "Training Samples 26425\n",
            "Testing Samples 26425\n"
          ]
        }
      ]
    },
    {
      "cell_type": "code",
      "source": [
        "!pip install transformers datasets evaluate seqeval"
      ],
      "metadata": {
        "colab": {
          "base_uri": "https://localhost:8080/"
        },
        "collapsed": true,
        "id": "ysaCV3Uaoixx",
        "outputId": "3b857822-d830-4c40-8fd7-2844f5a78413"
      },
      "execution_count": 17,
      "outputs": [
        {
          "output_type": "stream",
          "name": "stdout",
          "text": [
            "Requirement already satisfied: transformers in /usr/local/lib/python3.10/dist-packages (4.44.2)\n",
            "Requirement already satisfied: datasets in /usr/local/lib/python3.10/dist-packages (3.1.0)\n",
            "Requirement already satisfied: evaluate in /usr/local/lib/python3.10/dist-packages (0.4.3)\n",
            "Requirement already satisfied: seqeval in /usr/local/lib/python3.10/dist-packages (1.2.2)\n",
            "Requirement already satisfied: filelock in /usr/local/lib/python3.10/dist-packages (from transformers) (3.16.1)\n",
            "Requirement already satisfied: huggingface-hub<1.0,>=0.23.2 in /usr/local/lib/python3.10/dist-packages (from transformers) (0.24.7)\n",
            "Requirement already satisfied: numpy>=1.17 in /usr/local/lib/python3.10/dist-packages (from transformers) (1.26.4)\n",
            "Requirement already satisfied: packaging>=20.0 in /usr/local/lib/python3.10/dist-packages (from transformers) (24.1)\n",
            "Requirement already satisfied: pyyaml>=5.1 in /usr/local/lib/python3.10/dist-packages (from transformers) (6.0.2)\n",
            "Requirement already satisfied: regex!=2019.12.17 in /usr/local/lib/python3.10/dist-packages (from transformers) (2024.9.11)\n",
            "Requirement already satisfied: requests in /usr/local/lib/python3.10/dist-packages (from transformers) (2.32.3)\n",
            "Requirement already satisfied: safetensors>=0.4.1 in /usr/local/lib/python3.10/dist-packages (from transformers) (0.4.5)\n",
            "Requirement already satisfied: tokenizers<0.20,>=0.19 in /usr/local/lib/python3.10/dist-packages (from transformers) (0.19.1)\n",
            "Requirement already satisfied: tqdm>=4.27 in /usr/local/lib/python3.10/dist-packages (from transformers) (4.66.6)\n",
            "Requirement already satisfied: pyarrow>=15.0.0 in /usr/local/lib/python3.10/dist-packages (from datasets) (17.0.0)\n",
            "Requirement already satisfied: dill<0.3.9,>=0.3.0 in /usr/local/lib/python3.10/dist-packages (from datasets) (0.3.8)\n",
            "Requirement already satisfied: pandas in /usr/local/lib/python3.10/dist-packages (from datasets) (2.2.2)\n",
            "Requirement already satisfied: xxhash in /usr/local/lib/python3.10/dist-packages (from datasets) (3.5.0)\n",
            "Requirement already satisfied: multiprocess<0.70.17 in /usr/local/lib/python3.10/dist-packages (from datasets) (0.70.16)\n",
            "Requirement already satisfied: fsspec<=2024.9.0,>=2023.1.0 in /usr/local/lib/python3.10/dist-packages (from fsspec[http]<=2024.9.0,>=2023.1.0->datasets) (2024.9.0)\n",
            "Requirement already satisfied: aiohttp in /usr/local/lib/python3.10/dist-packages (from datasets) (3.10.10)\n",
            "Requirement already satisfied: scikit-learn>=0.21.3 in /usr/local/lib/python3.10/dist-packages (from seqeval) (1.5.2)\n",
            "Requirement already satisfied: aiohappyeyeballs>=2.3.0 in /usr/local/lib/python3.10/dist-packages (from aiohttp->datasets) (2.4.3)\n",
            "Requirement already satisfied: aiosignal>=1.1.2 in /usr/local/lib/python3.10/dist-packages (from aiohttp->datasets) (1.3.1)\n",
            "Requirement already satisfied: attrs>=17.3.0 in /usr/local/lib/python3.10/dist-packages (from aiohttp->datasets) (24.2.0)\n",
            "Requirement already satisfied: frozenlist>=1.1.1 in /usr/local/lib/python3.10/dist-packages (from aiohttp->datasets) (1.5.0)\n",
            "Requirement already satisfied: multidict<7.0,>=4.5 in /usr/local/lib/python3.10/dist-packages (from aiohttp->datasets) (6.1.0)\n",
            "Requirement already satisfied: yarl<2.0,>=1.12.0 in /usr/local/lib/python3.10/dist-packages (from aiohttp->datasets) (1.17.0)\n",
            "Requirement already satisfied: async-timeout<5.0,>=4.0 in /usr/local/lib/python3.10/dist-packages (from aiohttp->datasets) (4.0.3)\n",
            "Requirement already satisfied: typing-extensions>=3.7.4.3 in /usr/local/lib/python3.10/dist-packages (from huggingface-hub<1.0,>=0.23.2->transformers) (4.12.2)\n",
            "Requirement already satisfied: charset-normalizer<4,>=2 in /usr/local/lib/python3.10/dist-packages (from requests->transformers) (3.4.0)\n",
            "Requirement already satisfied: idna<4,>=2.5 in /usr/local/lib/python3.10/dist-packages (from requests->transformers) (3.10)\n",
            "Requirement already satisfied: urllib3<3,>=1.21.1 in /usr/local/lib/python3.10/dist-packages (from requests->transformers) (2.2.3)\n",
            "Requirement already satisfied: certifi>=2017.4.17 in /usr/local/lib/python3.10/dist-packages (from requests->transformers) (2024.8.30)\n",
            "Requirement already satisfied: scipy>=1.6.0 in /usr/local/lib/python3.10/dist-packages (from scikit-learn>=0.21.3->seqeval) (1.13.1)\n",
            "Requirement already satisfied: joblib>=1.2.0 in /usr/local/lib/python3.10/dist-packages (from scikit-learn>=0.21.3->seqeval) (1.4.2)\n",
            "Requirement already satisfied: threadpoolctl>=3.1.0 in /usr/local/lib/python3.10/dist-packages (from scikit-learn>=0.21.3->seqeval) (3.5.0)\n",
            "Requirement already satisfied: python-dateutil>=2.8.2 in /usr/local/lib/python3.10/dist-packages (from pandas->datasets) (2.8.2)\n",
            "Requirement already satisfied: pytz>=2020.1 in /usr/local/lib/python3.10/dist-packages (from pandas->datasets) (2024.2)\n",
            "Requirement already satisfied: tzdata>=2022.7 in /usr/local/lib/python3.10/dist-packages (from pandas->datasets) (2024.2)\n",
            "Requirement already satisfied: six>=1.5 in /usr/local/lib/python3.10/dist-packages (from python-dateutil>=2.8.2->pandas->datasets) (1.16.0)\n",
            "Requirement already satisfied: propcache>=0.2.0 in /usr/local/lib/python3.10/dist-packages (from yarl<2.0,>=1.12.0->aiohttp->datasets) (0.2.0)\n"
          ]
        }
      ]
    },
    {
      "cell_type": "code",
      "source": [
        "import pandas as pd\n",
        "from datasets import Dataset\n",
        "train_df = pd.DataFrame({'tokens': x_train, 'ner_tags': y_train})\n",
        "train_dataset = Dataset.from_pandas(train_df)\n",
        "test_df = pd.DataFrame({'tokens': x_test, 'ner_tags': y_test})\n",
        "test_dataset = Dataset.from_pandas(test_df)"
      ],
      "metadata": {
        "id": "mCl_UbJzSlp2"
      },
      "execution_count": 18,
      "outputs": []
    },
    {
      "cell_type": "code",
      "source": [
        "from transformers import AutoTokenizer\n",
        "\n",
        "tokenizer = AutoTokenizer.from_pretrained(\"roberta-base\",add_prefix_space=True)"
      ],
      "metadata": {
        "id": "MoZRVHMAoqMr",
        "colab": {
          "base_uri": "https://localhost:8080/"
        },
        "outputId": "5a69194b-a5a8-45ff-86ad-adfda388fc08"
      },
      "execution_count": 19,
      "outputs": [
        {
          "output_type": "stream",
          "name": "stderr",
          "text": [
            "/usr/local/lib/python3.10/dist-packages/huggingface_hub/utils/_token.py:89: UserWarning: \n",
            "The secret `HF_TOKEN` does not exist in your Colab secrets.\n",
            "To authenticate with the Hugging Face Hub, create a token in your settings tab (https://huggingface.co/settings/tokens), set it as secret in your Google Colab and restart your session.\n",
            "You will be able to reuse this secret in all of your notebooks.\n",
            "Please note that authentication is recommended but still optional to access public models or datasets.\n",
            "  warnings.warn(\n",
            "/usr/local/lib/python3.10/dist-packages/transformers/tokenization_utils_base.py:1601: FutureWarning: `clean_up_tokenization_spaces` was not set. It will be set to `True` by default. This behavior will be depracted in transformers v4.45, and will be then set to `False` by default. For more details check this issue: https://github.com/huggingface/transformers/issues/31884\n",
            "  warnings.warn(\n"
          ]
        }
      ]
    },
    {
      "cell_type": "code",
      "source": [
        "example=tokens_array[0]\n",
        "tokenized_input = tokenizer(example, is_split_into_words=True)\n",
        "tokens = tokenizer.convert_ids_to_tokens(tokenized_input[\"input_ids\"])\n",
        "tokens"
      ],
      "metadata": {
        "colab": {
          "base_uri": "https://localhost:8080/"
        },
        "id": "tb4PTsHkosO9",
        "outputId": "cca56437-e1d8-4257-8d8e-2f10d53ba0d7"
      },
      "execution_count": 20,
      "outputs": [
        {
          "output_type": "execute_result",
          "data": {
            "text/plain": [
              "['<s>',\n",
              " 'ĠIn',\n",
              " 'Ġ20',\n",
              " '23',\n",
              " ',',\n",
              " 'ĠM',\n",
              " '/',\n",
              " 'S',\n",
              " 'ĠNov',\n",
              " 'ot',\n",
              " 'ure',\n",
              " 'ĠEle',\n",
              " 'cr',\n",
              " 'ical',\n",
              " 'Ġ&',\n",
              " 'digital',\n",
              " 'Ġsystems',\n",
              " 'Ġ(',\n",
              " 'p',\n",
              " ')',\n",
              " 'Ġl',\n",
              " 'td',\n",
              " 'Ġprovided',\n",
              " 'Ġan',\n",
              " 'Ġinvoice',\n",
              " 'ĠINV',\n",
              " '-',\n",
              " '978',\n",
              " '76',\n",
              " '332',\n",
              " 'Ġfor',\n",
              " 'Ġthe',\n",
              " 'ĠVal',\n",
              " 'rack',\n",
              " 'Ġ12',\n",
              " 'u',\n",
              " 'Ġorder',\n",
              " '.',\n",
              " '</s>']"
            ]
          },
          "metadata": {},
          "execution_count": 20
        }
      ]
    },
    {
      "cell_type": "code",
      "source": [
        "def tokenize_and_align_labels(examples):\n",
        "    tokenized_inputs = tokenizer(examples[\"tokens\"], truncation=True, is_split_into_words=True)\n",
        "\n",
        "    labels = []\n",
        "    for i, label in enumerate(examples[f\"ner_tags\"]):\n",
        "        word_ids = tokenized_inputs.word_ids(batch_index=i)  # Map tokens to their respective word.\n",
        "        previous_word_idx = None\n",
        "        label_ids = []\n",
        "        for word_idx in word_ids:  # Set the special tokens to -100.\n",
        "            if word_idx is None:\n",
        "                label_ids.append(-100)\n",
        "            elif word_idx != previous_word_idx:  # Only label the first token of a given word.\n",
        "                label_ids.append(label[word_idx])\n",
        "            else:\n",
        "                label_ids.append(-100)\n",
        "            previous_word_idx = word_idx\n",
        "        labels.append(label_ids)\n",
        "\n",
        "    tokenized_inputs[\"labels\"] = labels\n",
        "    return tokenized_inputs"
      ],
      "metadata": {
        "id": "RwYpneFnotmD"
      },
      "execution_count": 21,
      "outputs": []
    },
    {
      "cell_type": "code",
      "source": [
        "tokenized_train = train_dataset.map(tokenize_and_align_labels, batched=True)\n",
        "tokenized_test = test_dataset.map(tokenize_and_align_labels, batched=True)"
      ],
      "metadata": {
        "colab": {
          "base_uri": "https://localhost:8080/",
          "height": 81,
          "referenced_widgets": [
            "fa2d9f22361348a5806d759b4a998372",
            "d878ebcca69b4d9a9628d21f859bdbb9",
            "cf338c9d8533447691838106dc4efb2b",
            "6b9dea9589a6455bbfbac40d1d6f9623",
            "f4cf52b9a0cb4047b6d89c3f0532233e",
            "332973ceba6f40298bbd4f01354fd809",
            "ee0613c04ee547f3a9b678a91d8f1129",
            "a81f91e1a0c04e91a4789c276913a536",
            "d892b2875e594a3b985d6cbfeaabda3c",
            "06635da02fd941878192d39008669bed",
            "797591ed27e848b3adfaa3563450935c",
            "b97df58f4abf475fa910c9f00b6bac39",
            "cc0f949e6ae24b90beb0d0f88074165c",
            "0cb0c4aff9534aa1b0100be6ccaaa850",
            "ce8ed71518f54afb94d2e680f0252884",
            "ae4d00cd56824a3293fe5664d3482eb1",
            "002b1a23f3c84e1b8d739d383da6c947",
            "122aab5a8475407d9f9ae8e2a2b919a5",
            "8061b88af00c49cc9b5169d2aed3a1e1",
            "da31be9e2ab8407bbc2b400624e53296",
            "5e9de0ab1f3346ee92c93d0ab52c6655",
            "e930c908c8c34f46978a95ac6190759a"
          ]
        },
        "id": "abHfk_CXovTr",
        "outputId": "ab94ebed-2962-4e0a-a8ca-6713c0c613e8"
      },
      "execution_count": 22,
      "outputs": [
        {
          "output_type": "display_data",
          "data": {
            "text/plain": [
              "Map:   0%|          | 0/26425 [00:00<?, ? examples/s]"
            ],
            "application/vnd.jupyter.widget-view+json": {
              "version_major": 2,
              "version_minor": 0,
              "model_id": "fa2d9f22361348a5806d759b4a998372"
            }
          },
          "metadata": {}
        },
        {
          "output_type": "display_data",
          "data": {
            "text/plain": [
              "Map:   0%|          | 0/26425 [00:00<?, ? examples/s]"
            ],
            "application/vnd.jupyter.widget-view+json": {
              "version_major": 2,
              "version_minor": 0,
              "model_id": "b97df58f4abf475fa910c9f00b6bac39"
            }
          },
          "metadata": {}
        }
      ]
    },
    {
      "cell_type": "code",
      "source": [
        "from transformers import DataCollatorForTokenClassification\n",
        "\n",
        "data_collator = DataCollatorForTokenClassification(tokenizer=tokenizer, return_tensors=\"tf\")"
      ],
      "metadata": {
        "id": "K_GUBAXEow-0"
      },
      "execution_count": 23,
      "outputs": []
    },
    {
      "cell_type": "code",
      "source": [
        "import evaluate\n",
        "\n",
        "seqeval = evaluate.load(\"seqeval\")"
      ],
      "metadata": {
        "id": "LdMwPOH9oygM"
      },
      "execution_count": 24,
      "outputs": []
    },
    {
      "cell_type": "code",
      "source": [
        "import numpy as np\n",
        "\n",
        "label_map = {\n",
        "    0:'O',\n",
        "    1:'B-component',\n",
        "    2:'I-component',\n",
        "    3:'B-year',\n",
        "    4:'I-year',\n",
        "    5:'B-vendors',\n",
        "    6:'I-vendors',\n",
        "    7:'B-invoice',\n",
        "    8:'I-invoice'\n",
        "}\n",
        "\n",
        "labels = label_map.keys()\n",
        "print(labels)\n",
        "\n",
        "\n",
        "def compute_metrics(p):\n",
        "    predictions, labels = p\n",
        "    predictions = np.argmax(predictions, axis=2)\n",
        "\n",
        "    true_predictions = [\n",
        "        [label_map[p] for (p, l) in zip(prediction, label) if l != -100]\n",
        "        for prediction, label in zip(predictions, labels)\n",
        "    ]\n",
        "    true_labels = [\n",
        "        [label_map[l] for (p, l) in zip(prediction, label) if l != -100]\n",
        "        for prediction, label in zip(predictions, labels)\n",
        "    ]\n",
        "\n",
        "    results = seqeval.compute(predictions=true_predictions, references=true_labels)\n",
        "    return {\n",
        "        \"precision\": results[\"overall_precision\"],\n",
        "        \"recall\": results[\"overall_recall\"],\n",
        "        \"f1\": results[\"overall_f1\"],\n",
        "        \"accuracy\": results[\"overall_accuracy\"],\n",
        "    }"
      ],
      "metadata": {
        "id": "ZVouwocKo5yM",
        "colab": {
          "base_uri": "https://localhost:8080/"
        },
        "outputId": "68a60ef6-4985-4eb6-8d64-48b5513ed7ee"
      },
      "execution_count": 25,
      "outputs": [
        {
          "output_type": "stream",
          "name": "stdout",
          "text": [
            "dict_keys([0, 1, 2, 3, 4, 5, 6, 7, 8])\n"
          ]
        }
      ]
    },
    {
      "cell_type": "code",
      "source": [
        "id2label = {\n",
        "    0:'O',\n",
        "    1:'B-component',\n",
        "    2:'I-component',\n",
        "    3:'B-year',\n",
        "    4:'I-year',\n",
        "    5:'B-vendors',\n",
        "    6:'I-vendors',\n",
        "    7:'B-invoice',\n",
        "    8:'I-invoice'\n",
        "}\n",
        "label2id = {\n",
        "    'O': 0,\n",
        "    'B-component': 1,\n",
        "    'I-component': 2,\n",
        "    'B-year': 3,\n",
        "    'I-year': 4,\n",
        "    'B-vendors': 5,\n",
        "    'I-vendors': 6,\n",
        "    'B-invoice': 7,\n",
        "    'I-invoice': 8\n",
        "}"
      ],
      "metadata": {
        "id": "N9PmDSwZo8Nl"
      },
      "execution_count": 26,
      "outputs": []
    },
    {
      "cell_type": "code",
      "source": [
        "from transformers import create_optimizer\n",
        "\n",
        "batch_size = 16\n",
        "num_train_epochs = 3\n",
        "num_train_steps = (len(tokenized_train) // batch_size) * num_train_epochs\n",
        "optimizer, lr_schedule = create_optimizer(\n",
        "    init_lr=2e-5,\n",
        "    num_train_steps=num_train_steps,\n",
        "    weight_decay_rate=0.01,\n",
        "    num_warmup_steps=0,\n",
        ")"
      ],
      "metadata": {
        "id": "E2ZP0wKfo-Ax"
      },
      "execution_count": 27,
      "outputs": []
    },
    {
      "cell_type": "code",
      "source": [
        "from transformers import TFAutoModelForTokenClassification\n",
        "\n",
        "model = TFAutoModelForTokenClassification.from_pretrained(\n",
        "    \"roberta-base\", num_labels=9, id2label=id2label, label2id=label2id\n",
        ")"
      ],
      "metadata": {
        "colab": {
          "base_uri": "https://localhost:8080/"
        },
        "id": "T-Gsz8fso_09",
        "outputId": "598f1898-7267-4fe6-b663-2abcaf354521"
      },
      "execution_count": 28,
      "outputs": [
        {
          "output_type": "stream",
          "name": "stderr",
          "text": [
            "Some weights of the PyTorch model were not used when initializing the TF 2.0 model TFRobertaForTokenClassification: ['roberta.embeddings.position_ids']\n",
            "- This IS expected if you are initializing TFRobertaForTokenClassification from a PyTorch model trained on another task or with another architecture (e.g. initializing a TFBertForSequenceClassification model from a BertForPreTraining model).\n",
            "- This IS NOT expected if you are initializing TFRobertaForTokenClassification from a PyTorch model that you expect to be exactly identical (e.g. initializing a TFBertForSequenceClassification model from a BertForSequenceClassification model).\n",
            "Some weights or buffers of the TF 2.0 model TFRobertaForTokenClassification were not initialized from the PyTorch model and are newly initialized: ['classifier.weight', 'classifier.bias']\n",
            "You should probably TRAIN this model on a down-stream task to be able to use it for predictions and inference.\n"
          ]
        }
      ]
    },
    {
      "cell_type": "code",
      "source": [
        "tf_train_set = model.prepare_tf_dataset(\n",
        "    tokenized_train,\n",
        "    shuffle=True,\n",
        "    batch_size=16,\n",
        "    collate_fn=data_collator,\n",
        ")\n",
        "\n",
        "tf_validation_set = model.prepare_tf_dataset(\n",
        "    tokenized_test,\n",
        "    shuffle=False,\n",
        "    batch_size=16,\n",
        "    collate_fn=data_collator,\n",
        ")"
      ],
      "metadata": {
        "id": "mw6HycTPpBe4"
      },
      "execution_count": 29,
      "outputs": []
    },
    {
      "cell_type": "code",
      "source": [
        "import tensorflow as tf\n",
        "\n",
        "model.compile(optimizer=optimizer)  # No loss argument!"
      ],
      "metadata": {
        "id": "f0ZgSyRXpDFm"
      },
      "execution_count": 30,
      "outputs": []
    },
    {
      "cell_type": "code",
      "source": [
        "from transformers.keras_callbacks import KerasMetricCallback\n",
        "\n",
        "metric_callback = KerasMetricCallback(metric_fn=compute_metrics, eval_dataset=tf_validation_set)"
      ],
      "metadata": {
        "id": "bXSx9_CmpEk1"
      },
      "execution_count": 31,
      "outputs": []
    },
    {
      "cell_type": "code",
      "source": [
        "callbacks = [metric_callback]"
      ],
      "metadata": {
        "id": "BBg6b3HfpG12"
      },
      "execution_count": 32,
      "outputs": []
    },
    {
      "cell_type": "code",
      "source": [
        "from time import time\n"
      ],
      "metadata": {
        "id": "SsdTVAtH71tt"
      },
      "execution_count": 33,
      "outputs": []
    },
    {
      "cell_type": "code",
      "source": [
        "start_time=time()\n",
        "model.fit(x=tf_train_set, validation_data=tf_validation_set, epochs=3, callbacks=callbacks)\n",
        "training_time=abs(start_time-time())\n",
        "print(\"Training Time: \",training_time)"
      ],
      "metadata": {
        "colab": {
          "base_uri": "https://localhost:8080/"
        },
        "id": "JhVsRAjspKB_",
        "outputId": "469a4ae0-d22d-43f3-cddd-7807d88cdac4"
      },
      "execution_count": 34,
      "outputs": [
        {
          "output_type": "stream",
          "name": "stdout",
          "text": [
            "Epoch 1/3\n",
            "1651/1651 [==============================] - 625s 358ms/step - loss: 0.0260 - val_loss: 2.4839e-04 - precision: 0.9999 - recall: 0.9999 - f1: 0.9999 - accuracy: 1.0000\n",
            "Epoch 2/3\n",
            "1651/1651 [==============================] - 542s 328ms/step - loss: 2.7663e-04 - val_loss: 9.3519e-05 - precision: 1.0000 - recall: 1.0000 - f1: 1.0000 - accuracy: 1.0000\n",
            "Epoch 3/3\n",
            "1651/1651 [==============================] - 539s 327ms/step - loss: 1.4474e-04 - val_loss: 8.7153e-05 - precision: 1.0000 - recall: 1.0000 - f1: 1.0000 - accuracy: 1.0000\n",
            "Training Time:  1726.325121641159\n"
          ]
        }
      ]
    },
    {
      "cell_type": "code",
      "source": [
        "start_time=time()\n",
        "model.evaluate(tf_validation_set)\n",
        "testing_time=abs(start_time-time())\n",
        "print(\"Testing Time: \",testing_time)"
      ],
      "metadata": {
        "colab": {
          "base_uri": "https://localhost:8080/"
        },
        "id": "qSrnriRLFVE_",
        "outputId": "1c75d062-2037-4c96-8184-2b10ef0eae4b"
      },
      "execution_count": 35,
      "outputs": [
        {
          "output_type": "stream",
          "name": "stdout",
          "text": [
            "1652/1652 [==============================] - 93s 56ms/step - loss: 8.7153e-05\n",
            "Testing Time:  141.9361548423767\n"
          ]
        }
      ]
    },
    {
      "cell_type": "code",
      "source": [
        "model.save_pretrained(\"/content/drive/MyDrive/ChatBotExampleEntityModel\")\n",
        "tokenizer.save_pretrained(\"/content/drive/MyDrive/ChatBotExampleEntityModel\")"
      ],
      "metadata": {
        "id": "9yNGHfwrr9OS",
        "colab": {
          "base_uri": "https://localhost:8080/"
        },
        "outputId": "bd23c5af-ef91-4131-b2b4-67c47a4e5ae8"
      },
      "execution_count": 48,
      "outputs": [
        {
          "output_type": "execute_result",
          "data": {
            "text/plain": [
              "('/content/drive/MyDrive/ChatBotExampleEntityModel/tokenizer_config.json',\n",
              " '/content/drive/MyDrive/ChatBotExampleEntityModel/special_tokens_map.json',\n",
              " '/content/drive/MyDrive/ChatBotExampleEntityModel/vocab.json',\n",
              " '/content/drive/MyDrive/ChatBotExampleEntityModel/merges.txt',\n",
              " '/content/drive/MyDrive/ChatBotExampleEntityModel/added_tokens.json',\n",
              " '/content/drive/MyDrive/ChatBotExampleEntityModel/tokenizer.json')"
            ]
          },
          "metadata": {},
          "execution_count": 48
        }
      ]
    },
    {
      "cell_type": "code",
      "source": [
        "from transformers import AutoTokenizer, TFAutoModelForTokenClassification\n",
        "model=TFAutoModelForTokenClassification.from_pretrained(\"/content/drive/MyDrive/ChatBotExampleEntityModel\")\n",
        "tokenizer=AutoTokenizer.from_pretrained(\"/content/drive/MyDrive/ChatBotExampleEntityModel\")"
      ],
      "metadata": {
        "colab": {
          "base_uri": "https://localhost:8080/"
        },
        "id": "Idq5icxaBlxd",
        "outputId": "585f5e1f-bd7e-455b-fd06-4cb8d2bf5124"
      },
      "execution_count": 49,
      "outputs": [
        {
          "output_type": "stream",
          "name": "stderr",
          "text": [
            "Some layers from the model checkpoint at /content/drive/MyDrive/ChatBotExampleEntityModel were not used when initializing TFRobertaForTokenClassification: ['dropout_37']\n",
            "- This IS expected if you are initializing TFRobertaForTokenClassification from the checkpoint of a model trained on another task or with another architecture (e.g. initializing a BertForSequenceClassification model from a BertForPreTraining model).\n",
            "- This IS NOT expected if you are initializing TFRobertaForTokenClassification from the checkpoint of a model that you expect to be exactly identical (initializing a BertForSequenceClassification model from a BertForSequenceClassification model).\n",
            "All the layers of TFRobertaForTokenClassification were initialized from the model checkpoint at /content/drive/MyDrive/ChatBotExampleEntityModel.\n",
            "If your task is similar to the task the model of the checkpoint was trained on, you can already use TFRobertaForTokenClassification for predictions without further training.\n"
          ]
        }
      ]
    },
    {
      "cell_type": "code",
      "source": [
        "text = \"tell me details of invoice INV-123456 of ms nisha computers of valrack12 purchased in 2023 and 2024\""
      ],
      "metadata": {
        "id": "FF62ys5UpLx3"
      },
      "execution_count": 36,
      "outputs": []
    },
    {
      "cell_type": "code",
      "source": [
        "tokenizer.tokenize(text)"
      ],
      "metadata": {
        "colab": {
          "base_uri": "https://localhost:8080/"
        },
        "id": "ayP-7O1kRPDM",
        "outputId": "9dbc283c-d6cc-490f-de5d-8e83e9ae47e6"
      },
      "execution_count": 37,
      "outputs": [
        {
          "output_type": "execute_result",
          "data": {
            "text/plain": [
              "['Ġtell',\n",
              " 'Ġme',\n",
              " 'Ġdetails',\n",
              " 'Ġof',\n",
              " 'Ġinvoice',\n",
              " 'ĠINV',\n",
              " '-',\n",
              " '123',\n",
              " '456',\n",
              " 'Ġof',\n",
              " 'Ġms',\n",
              " 'Ġn',\n",
              " 'isha',\n",
              " 'Ġcomputers',\n",
              " 'Ġof',\n",
              " 'Ġval',\n",
              " 'rack',\n",
              " '12',\n",
              " 'Ġpurchased',\n",
              " 'Ġin',\n",
              " 'Ġ20',\n",
              " '23',\n",
              " 'Ġand',\n",
              " 'Ġ2024']"
            ]
          },
          "metadata": {},
          "execution_count": 37
        }
      ]
    },
    {
      "cell_type": "code",
      "source": [
        "from transformers import pipeline\n",
        "\n",
        "classifier = pipeline(\"ner\", model=model,tokenizer=tokenizer,device=0)\n",
        "response=classifier(text)\n",
        "response"
      ],
      "metadata": {
        "id": "exfEeP6Vq8CU",
        "colab": {
          "base_uri": "https://localhost:8080/"
        },
        "outputId": "f1074e7a-7d7c-4102-de6c-9d3f82c1d199",
        "collapsed": true
      },
      "execution_count": 38,
      "outputs": [
        {
          "output_type": "execute_result",
          "data": {
            "text/plain": [
              "[{'entity': 'B-invoice',\n",
              "  'score': 0.99991596,\n",
              "  'index': 6,\n",
              "  'word': 'ĠINV',\n",
              "  'start': 27,\n",
              "  'end': 30},\n",
              " {'entity': 'B-invoice',\n",
              "  'score': 0.99982005,\n",
              "  'index': 7,\n",
              "  'word': '-',\n",
              "  'start': 30,\n",
              "  'end': 31},\n",
              " {'entity': 'B-invoice',\n",
              "  'score': 0.96974975,\n",
              "  'index': 8,\n",
              "  'word': '123',\n",
              "  'start': 31,\n",
              "  'end': 34},\n",
              " {'entity': 'B-vendors',\n",
              "  'score': 0.9998807,\n",
              "  'index': 11,\n",
              "  'word': 'Ġms',\n",
              "  'start': 41,\n",
              "  'end': 43},\n",
              " {'entity': 'I-vendors',\n",
              "  'score': 0.99992144,\n",
              "  'index': 12,\n",
              "  'word': 'Ġn',\n",
              "  'start': 44,\n",
              "  'end': 45},\n",
              " {'entity': 'I-vendors',\n",
              "  'score': 0.99993265,\n",
              "  'index': 13,\n",
              "  'word': 'isha',\n",
              "  'start': 45,\n",
              "  'end': 49},\n",
              " {'entity': 'I-vendors',\n",
              "  'score': 0.9999386,\n",
              "  'index': 14,\n",
              "  'word': 'Ġcomputers',\n",
              "  'start': 50,\n",
              "  'end': 59},\n",
              " {'entity': 'B-component',\n",
              "  'score': 0.99875057,\n",
              "  'index': 16,\n",
              "  'word': 'Ġval',\n",
              "  'start': 63,\n",
              "  'end': 66},\n",
              " {'entity': 'I-component',\n",
              "  'score': 0.9999367,\n",
              "  'index': 17,\n",
              "  'word': 'rack',\n",
              "  'start': 66,\n",
              "  'end': 70},\n",
              " {'entity': 'I-component',\n",
              "  'score': 0.9999379,\n",
              "  'index': 18,\n",
              "  'word': '12',\n",
              "  'start': 70,\n",
              "  'end': 72},\n",
              " {'entity': 'B-year',\n",
              "  'score': 0.99991393,\n",
              "  'index': 21,\n",
              "  'word': 'Ġ20',\n",
              "  'start': 86,\n",
              "  'end': 88},\n",
              " {'entity': 'B-year',\n",
              "  'score': 0.9999149,\n",
              "  'index': 22,\n",
              "  'word': '23',\n",
              "  'start': 88,\n",
              "  'end': 90},\n",
              " {'entity': 'B-year',\n",
              "  'score': 0.99991083,\n",
              "  'index': 24,\n",
              "  'word': 'Ġ2024',\n",
              "  'start': 95,\n",
              "  'end': 99}]"
            ]
          },
          "metadata": {},
          "execution_count": 38
        }
      ]
    },
    {
      "cell_type": "code",
      "source": [
        "d={}\n",
        "for i in response:\n",
        "  if i['entity'] not in d:\n",
        "    d[i['entity']]=[i['word']]\n",
        "  else:\n",
        "    d[i['entity']].append(i['word'])\n",
        "d"
      ],
      "metadata": {
        "colab": {
          "base_uri": "https://localhost:8080/"
        },
        "id": "IIXcvnNBHG0d",
        "outputId": "8d166929-980f-433a-b89d-ce0a78cacc00"
      },
      "execution_count": 41,
      "outputs": [
        {
          "output_type": "execute_result",
          "data": {
            "text/plain": [
              "{'B-invoice': ['ĠINV', '-', '123'],\n",
              " 'B-vendors': ['Ġms'],\n",
              " 'I-vendors': ['Ġn', 'isha', 'Ġcomputers'],\n",
              " 'B-component': ['Ġval'],\n",
              " 'I-component': ['rack', '12'],\n",
              " 'B-year': ['Ġ20', '23', 'Ġ2024']}"
            ]
          },
          "metadata": {},
          "execution_count": 41
        }
      ]
    },
    {
      "cell_type": "code",
      "source": [
        "entities = {\n",
        "    'components': '',\n",
        "    'years': '',\n",
        "    'vendors': '',\n",
        "    'invoices': ''\n",
        "    }\n",
        "labels = {\n",
        "    'B-component': 'components',\n",
        "    'I-component': 'components',\n",
        "    'B-year': 'years',\n",
        "    'I-year': 'years',\n",
        "    'B-vendors': 'vendors',\n",
        "    'I-vendors': 'vendors',\n",
        "    'B-invoice': 'invoices',\n",
        "    'I-invoice': 'invoices'\n",
        "}"
      ],
      "metadata": {
        "id": "l-O0zv7oILXK"
      },
      "execution_count": 42,
      "outputs": []
    },
    {
      "cell_type": "code",
      "source": [
        "for i in d:\n",
        "  arr=d[i]\n",
        "  s=''\n",
        "  for j in arr:\n",
        "    s+=j\n",
        "  entities[labels[i]]+=s"
      ],
      "metadata": {
        "id": "Hr2UUZQ8N0Jf"
      },
      "execution_count": 43,
      "outputs": []
    },
    {
      "cell_type": "code",
      "source": [
        "for i in entities:\n",
        "  entities[i]=entities[i].split('Ġ')"
      ],
      "metadata": {
        "id": "67NDeNDi8JNU"
      },
      "execution_count": 44,
      "outputs": []
    },
    {
      "cell_type": "code",
      "source": [
        "for i in entities:\n",
        "  arr=[]\n",
        "  for j in entities[i]:\n",
        "    if j!='':\n",
        "      arr.append(j)\n",
        "  entities[i]=arr"
      ],
      "metadata": {
        "id": "Bh3bFOJCL0_N",
        "collapsed": true
      },
      "execution_count": 45,
      "outputs": []
    },
    {
      "cell_type": "code",
      "source": [
        "for i in entities:\n",
        "  if i=='components':\n",
        "    s=''\n",
        "    for j in entities[i]:\n",
        "      s+=j+' '\n",
        "    entities[i]=s.strip()\n",
        "  elif i=='vendors':\n",
        "    s=''\n",
        "    for j in entities[i]:\n",
        "      s+=j+' '\n",
        "    entities[i]=s.strip()"
      ],
      "metadata": {
        "id": "-7uiez5rRE0p"
      },
      "execution_count": 46,
      "outputs": []
    },
    {
      "cell_type": "code",
      "source": [
        "entities"
      ],
      "metadata": {
        "colab": {
          "base_uri": "https://localhost:8080/"
        },
        "id": "3i7XhSIRMom8",
        "outputId": "df8b5280-2e80-421e-8def-1670f8591c88"
      },
      "execution_count": 47,
      "outputs": [
        {
          "output_type": "execute_result",
          "data": {
            "text/plain": [
              "{'components': 'valrack12',\n",
              " 'years': ['2023', '2024'],\n",
              " 'vendors': 'ms nisha computers',\n",
              " 'invoices': ['INV-123']}"
            ]
          },
          "metadata": {},
          "execution_count": 47
        }
      ]
    },
    {
      "cell_type": "code",
      "source": [
        "text = \"tell me details of invoice INV-123456 of ms nisha computers, central stores and appario of valrack12 and curtaincloth purchased in 2023 and 2024\""
      ],
      "metadata": {
        "id": "WnBG5Th4Mv5d"
      },
      "execution_count": null,
      "outputs": []
    },
    {
      "cell_type": "code",
      "source": [
        "def get_entities(text):\n",
        "    response=entity_classifier(text)\n",
        "\n",
        "    d={}\n",
        "    for i in response:\n",
        "        if i['entity'] not in d:\n",
        "            d[i['entity']]=[i['word']]\n",
        "        else:\n",
        "            d[i['entity']].append(i['word'])\n",
        "\n",
        "    entities = {\n",
        "        'components': '',\n",
        "        'years': '',\n",
        "        'vendors': '',\n",
        "        'invoices': ''\n",
        "        }\n",
        "    labels = {\n",
        "        'B-component': 'components',\n",
        "        'I-component': 'components',\n",
        "        'B-year': 'years',\n",
        "        'I-year': 'years',\n",
        "        'B-vendors': 'vendors',\n",
        "        'I-vendors': 'vendors',\n",
        "        'B-invoice': 'invoices',\n",
        "        'I-invoice': 'invoices'\n",
        "    }\n",
        "\n",
        "\n",
        "    for i in d:\n",
        "        arr=d[i]\n",
        "        s=''\n",
        "        for j in arr:\n",
        "            s+=j\n",
        "        entities[labels[i]]+=s\n",
        "\n",
        "    for i in entities:\n",
        "        entities[i]=entities[i].split('Ġ')\n",
        "\n",
        "    for i in entities:\n",
        "        arr=[]\n",
        "        for j in entities[i]:\n",
        "            if j!='':\n",
        "                arr.append(j)\n",
        "        entities[i]=arr\n",
        "\n",
        "\n",
        "    return entities\n",
        "\n",
        "get_entities(text)"
      ],
      "metadata": {
        "id": "K78ImkLFSIyE"
      },
      "execution_count": null,
      "outputs": []
    },
    {
      "cell_type": "code",
      "source": [
        "file_path = '/content/SampleTest.txt'\n",
        "with open(file_path, 'r') as file:\n",
        "  file_contents = file.readlines()\n",
        "  for i in file_contents:\n",
        "    print('\\n\\n')\n",
        "    print(i)\n",
        "    print(get_entities(i),'end')\n"
      ],
      "metadata": {
        "id": "FZvN1Xb7UP1b"
      },
      "execution_count": null,
      "outputs": []
    },
    {
      "cell_type": "code",
      "source": [],
      "metadata": {
        "id": "5d6gUyrmTvd1"
      },
      "execution_count": null,
      "outputs": []
    }
  ]
}